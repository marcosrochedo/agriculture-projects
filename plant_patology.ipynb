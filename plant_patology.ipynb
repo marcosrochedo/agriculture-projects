{
  "nbformat": 4,
  "nbformat_minor": 0,
  "metadata": {
    "colab": {
      "name": "plant-patology.ipynb",
      "provenance": [],
      "collapsed_sections": [],
      "authorship_tag": "ABX9TyMMhV2QLSh8SQvP9q58RHh+",
      "include_colab_link": true
    },
    "kernelspec": {
      "name": "python3",
      "display_name": "Python 3"
    },
    "language_info": {
      "name": "python"
    }
  },
  "cells": [
    {
      "cell_type": "markdown",
      "metadata": {
        "id": "view-in-github",
        "colab_type": "text"
      },
      "source": [
        "<a href=\"https://colab.research.google.com/github/marcosrochedo/agriculture-projects/blob/develop/plant_patology.ipynb\" target=\"_parent\"><img src=\"https://colab.research.google.com/assets/colab-badge.svg\" alt=\"Open In Colab\"/></a>"
      ]
    },
    {
      "cell_type": "code",
      "metadata": {
        "id": "8ly3YaEfuuoO"
      },
      "source": [
        "import sys\n",
        "\n",
        "path = '/content/drive/MyDrive/Database/Library/PlantPatology'\n",
        "sys.path.insert(0,path)"
      ],
      "execution_count": null,
      "outputs": []
    },
    {
      "cell_type": "code",
      "metadata": {
        "colab": {
          "base_uri": "https://localhost:8080/"
        },
        "id": "wmKQ_9fU1YGJ",
        "outputId": "706c428e-faf1-4529-95a6-b0915f89cf03"
      },
      "source": [
        "!pip install --target=$path jdc"
      ],
      "execution_count": null,
      "outputs": [
        {
          "output_type": "stream",
          "name": "stdout",
          "text": [
            "Collecting jdc\n",
            "  Using cached jdc-0.0.9-py2.py3-none-any.whl (2.1 kB)\n",
            "Installing collected packages: jdc\n",
            "Successfully installed jdc-0.0.9\n"
          ]
        }
      ]
    },
    {
      "cell_type": "code",
      "metadata": {
        "id": "4fjeHJ9f39lN"
      },
      "source": [
        "#commit"
      ],
      "execution_count": null,
      "outputs": []
    }
  ]
}